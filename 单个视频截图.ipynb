{
 "cells": [
  {
   "cell_type": "code",
   "execution_count": 12,
   "metadata": {},
   "outputs": [],
   "source": [
    "import cv2\n",
    "c = 1\n",
    "vc = cv2.VideoCapture('E:/OBD/256-行人-异常行为分析模拟视频/公司楼顶/摄像机高2.5m/海康600万/20181023164405866' + '.mp4') #读入视频文件\n",
    "if vc.isOpened(): #判断是否正常打开\n",
    "    rval , frame = vc.read()\n",
    "else:\n",
    "    rval = False\n",
    "\n",
    "timeF = 20  #视频帧计数间隔频率\n",
    "\n",
    "while rval:   #循环读取视频帧\n",
    "    rval, frame = vc.read()\n",
    "    if(c%timeF == 0): #每隔timeF帧进行存储操作\n",
    "        cv2.imwrite('20181023164405866' + '_G1001350_20_' + str(c) + '.jpg',frame) #存储为图像\n",
    "    c = c + 1\n",
    "    cv2.waitKey(1)\n",
    "vc.release()"
   ]
  },
  {
   "cell_type": "code",
   "execution_count": null,
   "metadata": {},
   "outputs": [],
   "source": []
  }
 ],
 "metadata": {
  "kernelspec": {
   "display_name": "Python 3",
   "language": "python",
   "name": "python3"
  },
  "language_info": {
   "codemirror_mode": {
    "name": "ipython",
    "version": 3
   },
   "file_extension": ".py",
   "mimetype": "text/x-python",
   "name": "python",
   "nbconvert_exporter": "python",
   "pygments_lexer": "ipython3",
   "version": "3.6.5"
  }
 },
 "nbformat": 4,
 "nbformat_minor": 2
}
