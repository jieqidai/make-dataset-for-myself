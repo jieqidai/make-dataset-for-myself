{
 "cells": [
  {
   "cell_type": "code",
   "execution_count": null,
   "metadata": {},
   "outputs": [],
   "source": [
    "# coding:utf-8\n",
    "import xml.etree.ElementTree as ET\n",
    "import os\n",
    "ann_dir = \"F:/xmls\"\n",
    "a = 0\n",
    "for file in os.listdir(ann_dir):\n",
    "    if file.endswith('xml'):\n",
    "        a = a+1\n",
    "        print a\n",
    "        file_xml = ann_dir+'/'+file\n",
    "        tree = ET.parse(file_xml)\n",
    "        root = tree.getroot()\n",
    "        for object in tree.findall('object'):\n",
    "            name = object.find('name').text\n",
    "            name_int = int(name)\n",
    "            if  name_int != 1:\n",
    "                object.find('name').text = str(1)\n",
    "        tree.write(file_xml)"
   ]
  }
 ],
 "metadata": {
  "kernelspec": {
   "display_name": "Python 3",
   "language": "python",
   "name": "python3"
  },
  "language_info": {
   "codemirror_mode": {
    "name": "ipython",
    "version": 3
   },
   "file_extension": ".py",
   "mimetype": "text/x-python",
   "name": "python",
   "nbconvert_exporter": "python",
   "pygments_lexer": "ipython3",
   "version": "3.6.5"
  }
 },
 "nbformat": 4,
 "nbformat_minor": 2
}
