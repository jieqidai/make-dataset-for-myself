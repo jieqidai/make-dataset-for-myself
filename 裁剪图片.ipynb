{
 "cells": [
  {
   "cell_type": "code",
   "execution_count": 16,
   "metadata": {},
   "outputs": [],
   "source": [
    "import os   \n",
    "import cv2 \n",
    " \n",
    "# 遍历指定目录，显示目录下的所有文件名\n",
    "def CropImage4File(filepath,destpath):\n",
    "    pathDir =  os.listdir(filepath)    # 列出文件路径中的所有路径或文件\n",
    "    for allDir in pathDir:\n",
    "        child = os.path.join(filepath, allDir)\n",
    "        dest = os.path.join(destpath,allDir)\n",
    "        if os.path.isfile(child):\n",
    "            image = cv2.imread(child) \n",
    "            sp = image.shape            #获取图像形状：返回【行数值，列数值】列表\n",
    "            sz1 = sp[0]                 #图像的高度（行 范围）\n",
    "            sz2 = sp[1]                 #图像的宽度（列 范围）\n",
    "            #sz3 = sp[2]                #像素值由【RGB】三原色组成\n",
    "            \n",
    "            #你想对文件的操作\n",
    "            a=int(sz1*0.4) # x start\n",
    "            b=int(sz1) # x end\n",
    "            c=0 # y start\n",
    "            d=int(sz2) # y end\n",
    "            cropImg = image[a:b,c:d]   #裁剪图像\n",
    "            cv2.imwrite(dest,cropImg)  #写入图像路径\n",
    "           \n",
    "if __name__ == '__main__':\n",
    "    filepath ='D:/data2/1/img/nofall'             #源图像\n",
    "    destpath='D:/data2/1/img/nofall-up'        # resized images saved here\n",
    "    CropImage4File(filepath,destpath)\n"
   ]
  },
  {
   "cell_type": "code",
   "execution_count": null,
   "metadata": {},
   "outputs": [],
   "source": []
  }
 ],
 "metadata": {
  "kernelspec": {
   "display_name": "Python 3",
   "language": "python",
   "name": "python3"
  },
  "language_info": {
   "codemirror_mode": {
    "name": "ipython",
    "version": 3
   },
   "file_extension": ".py",
   "mimetype": "text/x-python",
   "name": "python",
   "nbconvert_exporter": "python",
   "pygments_lexer": "ipython3",
   "version": "3.6.5"
  }
 },
 "nbformat": 4,
 "nbformat_minor": 2
}
