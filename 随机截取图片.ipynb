{
 "cells": [
  {
   "cell_type": "code",
   "execution_count": 3,
   "metadata": {},
   "outputs": [],
   "source": [
    "import os\n",
    "import cv2 \n",
    "import random \n",
    "\n",
    "filepath = \"D:/nanshanimg\"\n",
    "savepath = \"D:/nanshancrop\"\n",
    "\n",
    "imglist =  os.listdir(filepath)\n",
    "for imgname in imglist:\n",
    "    imgfile = filepath + '/'+imgname\n",
    "    #读取图片 \n",
    "    img=cv2.imread(imgfile) \n",
    "    #h、w为想要截取的图片大小 \n",
    "    h=600 \n",
    "    w=600 \n",
    "\n",
    "    count=1 \n",
    "\n",
    "    while 1:     \n",
    "        #随机产生x,y 此为像素内范围产生  \n",
    "        y = random.randint(1, 936) \n",
    "        x = random.randint(1, 1448) \n",
    "        #随机截图  \n",
    "        cropImg = img[(y):(y + h), (x):(x + w)] \n",
    "        cv2.imwrite(savepath + '/' + imgname[:-4] + '_' + str(count) + '.jpg', cropImg) \n",
    "        count+=1 \n",
    "        if count==50: \n",
    "            break\n"
   ]
  },
  {
   "cell_type": "code",
   "execution_count": null,
   "metadata": {},
   "outputs": [],
   "source": []
  }
 ],
 "metadata": {
  "kernelspec": {
   "display_name": "Python 3",
   "language": "python",
   "name": "python3"
  },
  "language_info": {
   "codemirror_mode": {
    "name": "ipython",
    "version": 3
   },
   "file_extension": ".py",
   "mimetype": "text/x-python",
   "name": "python",
   "nbconvert_exporter": "python",
   "pygments_lexer": "ipython3",
   "version": "3.6.5"
  }
 },
 "nbformat": 4,
 "nbformat_minor": 2
}
