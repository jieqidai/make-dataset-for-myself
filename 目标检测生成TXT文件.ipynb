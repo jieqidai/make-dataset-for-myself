{
 "cells": [
  {
   "cell_type": "code",
   "execution_count": 2,
   "metadata": {},
   "outputs": [
    {
     "name": "stdout",
     "output_type": "stream",
     "text": [
      "Well Done！！！\n"
     ]
    }
   ],
   "source": [
    "import os \n",
    "import random \n",
    "\n",
    "trainval_percent = 1 \n",
    "train_percent = 1 \n",
    "xmlfilepath = 'D:/SSD-1/xml' \n",
    "txtsavepath = 'D:/SSD-1/Main' \n",
    "total_xml = os.listdir(xmlfilepath) \n",
    "\n",
    "num = len(total_xml) \n",
    "list = range(num) \n",
    "tv = int(num*trainval_percent) \n",
    "tr = int(tv*train_percent) \n",
    "trainval = random.sample(list,tv) \n",
    "train = random.sample(trainval,tr) \n",
    "\n",
    "ftrainval = open(txtsavepath+'/trainval.txt', 'w') \n",
    "ftest = open(txtsavepath+'/test.txt', 'w') \n",
    "ftrain = open(txtsavepath+'/train.txt', 'w') \n",
    "fval = open(txtsavepath+'/val.txt', 'w') \n",
    "\n",
    "for i in list: \n",
    "    name = total_xml[i][:-4]+'\\n' \n",
    "    if i in trainval: \n",
    "        ftrainval.write(name) \n",
    "        if i in train: \n",
    "            ftrain.write(name) \n",
    "        else: \n",
    "            fval.write(name) \n",
    "    else: \n",
    "        ftest.write(name) \n",
    "ftrainval.close() \n",
    "ftrain.close() \n",
    "fval.close() \n",
    "ftest.close() \n",
    "print('Well Done！！！')\n"
   ]
  },
  {
   "cell_type": "code",
   "execution_count": null,
   "metadata": {},
   "outputs": [],
   "source": []
  }
 ],
 "metadata": {
  "kernelspec": {
   "display_name": "Python 3",
   "language": "python",
   "name": "python3"
  },
  "language_info": {
   "codemirror_mode": {
    "name": "ipython",
    "version": 3
   },
   "file_extension": ".py",
   "mimetype": "text/x-python",
   "name": "python",
   "nbconvert_exporter": "python",
   "pygments_lexer": "ipython3",
   "version": "3.6.5"
  }
 },
 "nbformat": 4,
 "nbformat_minor": 2
}
