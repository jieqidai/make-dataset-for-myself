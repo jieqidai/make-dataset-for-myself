{
 "cells": [
  {
   "cell_type": "code",
   "execution_count": 2,
   "metadata": {},
   "outputs": [],
   "source": [
    "import os, random, shutil\n",
    " \n",
    "def copyFile(fileDir):\n",
    "\n",
    "    pathDir = os.listdir(fileDir)\n",
    "    sample = random.sample(pathDir, 40000)\n",
    "    #print (sample)\n",
    "    for name in sample:\n",
    "        shutil.copyfile(fileDir + name, tarDir + name)\n",
    "\n",
    "if __name__ == '__main__':\n",
    "    fileDir = \"D:/data/摔倒分类数据/train/nofall/\"\n",
    "    tarDir = 'D:/SSD数据增强/body/'\n",
    "    copyFile(fileDir)\n"
   ]
  },
  {
   "cell_type": "code",
   "execution_count": null,
   "metadata": {},
   "outputs": [],
   "source": []
  }
 ],
 "metadata": {
  "kernelspec": {
   "display_name": "Python 3",
   "language": "python",
   "name": "python3"
  },
  "language_info": {
   "codemirror_mode": {
    "name": "ipython",
    "version": 3
   },
   "file_extension": ".py",
   "mimetype": "text/x-python",
   "name": "python",
   "nbconvert_exporter": "python",
   "pygments_lexer": "ipython3",
   "version": "3.6.5"
  }
 },
 "nbformat": 4,
 "nbformat_minor": 2
}
