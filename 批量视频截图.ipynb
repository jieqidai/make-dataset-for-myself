{
 "cells": [
  {
   "cell_type": "code",
   "execution_count": 8,
   "metadata": {},
   "outputs": [],
   "source": [
    "import os\n",
    "import cv2\n",
    "\n",
    "videoPath = \"D:/2-188/shengkan/\"\n",
    "savePath = \"D:/2-188/img/\"\n",
    "videolist = os.listdir(videoPath)\n",
    "\n",
    "for video in videolist:\n",
    "    c = 1\n",
    "    videofile = videoPath + video\n",
    "    vc = cv2.VideoCapture(videofile) #读入视频文件\n",
    "    if vc.isOpened(): #判断是否正常打开\n",
    "        rval , frame = vc.read()\n",
    "    else:\n",
    "        rval = False\n",
    "        print(\"error\")\n",
    "\n",
    "    timeF = 25  #视频帧计数间隔频率\n",
    "\n",
    "    while rval:   #循环读取视频帧\n",
    "        rval, frame = vc.read()\n",
    "        if(c%timeF == 0): #每隔timeF帧进行存储操作\n",
    "            cv2.imwrite(savePath + video[:-4] + '_' + str(c) + '.jpg',frame) #存储为图像\n",
    "        c = c + 1\n",
    "        cv2.waitKey(1)\n",
    "    vc.release()"
   ]
  },
  {
   "cell_type": "code",
   "execution_count": null,
   "metadata": {},
   "outputs": [],
   "source": []
  }
 ],
 "metadata": {
  "kernelspec": {
   "display_name": "Python 3",
   "language": "python",
   "name": "python3"
  },
  "language_info": {
   "codemirror_mode": {
    "name": "ipython",
    "version": 3
   },
   "file_extension": ".py",
   "mimetype": "text/x-python",
   "name": "python",
   "nbconvert_exporter": "python",
   "pygments_lexer": "ipython3",
   "version": "3.6.5"
  }
 },
 "nbformat": 4,
 "nbformat_minor": 2
}
