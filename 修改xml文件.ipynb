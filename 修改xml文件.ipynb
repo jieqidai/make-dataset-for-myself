{
 "cells": [
  {
   "cell_type": "code",
   "execution_count": 15,
   "metadata": {},
   "outputs": [],
   "source": [
    "#coding=utf-8\n",
    "import xml.dom.minidom\n",
    "\n",
    "xmlfile = \"D:/aaa/xml/test.xml\"\n",
    "dom = xml.dom.minidom.parse(xmlfile)\n",
    "root = dom.documentElement\n",
    "#获取标签对filename/width/height/xmin/ymin/xmax/ymax的值\n",
    "filename = root.getElementsByTagName('filename')\n",
    "width = root.getElementsByTagName('width')\n",
    "height = root.getElementsByTagName('height')\n",
    "xmin = root.getElementsByTagName('xmin')\n",
    "ymin = root.getElementsByTagName('ymin')\n",
    "xmax = root.getElementsByTagName('xmax')\n",
    "ymax = root.getElementsByTagName('ymax')\n",
    "\n",
    "#原始信息\n",
    "filename0 = filename[0]\n",
    "width0 = width[0]\n",
    "height0 = height[0]\n",
    "xmin0 = xmin[0]\n",
    "ymin0 = ymin[0]\n",
    "xmax0 = xmax[0]\n",
    "ymax0 = ymax[0]\n",
    "\n",
    "#修改信息\n",
    "filename0.firstChild.data = '123.jpg'\n",
    "width0.firstChild.data = '500'\n",
    "height0.firstChild.data = '600'\n",
    "xmin0.firstChild.data = '100'\n",
    "ymin0.firstChild.data = '100'\n",
    "xmax0.firstChild.data = '400'\n",
    "ymax0.firstChild.data = '400'\n",
    "\n",
    "with open(\"D:/aaa/xml/test1.xml\",'w') as fh:\n",
    "    dom.writexml(fh)\n"
   ]
  },
  {
   "cell_type": "code",
   "execution_count": null,
   "metadata": {},
   "outputs": [],
   "source": []
  }
 ],
 "metadata": {
  "kernelspec": {
   "display_name": "Python 3",
   "language": "python",
   "name": "python3"
  },
  "language_info": {
   "codemirror_mode": {
    "name": "ipython",
    "version": 3
   },
   "file_extension": ".py",
   "mimetype": "text/x-python",
   "name": "python",
   "nbconvert_exporter": "python",
   "pygments_lexer": "ipython3",
   "version": "3.6.5"
  }
 },
 "nbformat": 4,
 "nbformat_minor": 2
}
