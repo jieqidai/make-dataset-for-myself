{
 "cells": [
  {
   "cell_type": "code",
   "execution_count": 1,
   "metadata": {},
   "outputs": [],
   "source": [
    "import xml.etree.ElementTree as ET\n",
    "import os\n",
    "data_file_address = \"E:/OBD/data/xmls\"\n",
    "file_list = []\n",
    "image_height_int =0\n",
    "image_width_int =0\n",
    "for file in os.listdir(data_file_address):\n",
    "    if file.endswith(\".xml\"):\n",
    "        file_list.append(file)\n",
    "        file_add = data_file_address+'/'+file\n",
    "        tree = ET.parse(file_add)\n",
    "        root = tree.getroot()\n",
    "        for size in tree.findall('size'):\n",
    "            image_height = size.find('height').text\n",
    "            image_height_int = int(image_height)-1\n",
    "            image_width = size.find('width').text\n",
    "            image_width_int = int(image_width)-1\n",
    "        for object in tree.findall('object'):\n",
    "            bndbox = object.find('bndbox')  # 子节点下属性bndbox的值\n",
    "            xmin = int(bndbox.find('xmin').text)\n",
    "            if xmin<0:\n",
    "                bndbox.find('xmin').text = str(0)\n",
    "\n",
    "            ymin =int(bndbox.find('ymin').text)\n",
    "            if ymin<0:\n",
    "                bndbox.find('ymin').text = str(0)\n",
    "\n",
    "            xmax = int(bndbox.find('xmax').text)\n",
    "            if xmax>image_width_int:\n",
    "                bndbox.find('xmax').text = str(image_width_int)\n",
    "            ymax = int(bndbox.find('ymax').text)\n",
    "            if ymax>image_height_int:\n",
    "                bndbox.find('ymax').text = str(image_height_int)\n",
    "        tree.write(file_add)"
   ]
  },
  {
   "cell_type": "code",
   "execution_count": null,
   "metadata": {},
   "outputs": [],
   "source": []
  }
 ],
 "metadata": {
  "kernelspec": {
   "display_name": "Python 3",
   "language": "python",
   "name": "python3"
  },
  "language_info": {
   "codemirror_mode": {
    "name": "ipython",
    "version": 3
   },
   "file_extension": ".py",
   "mimetype": "text/x-python",
   "name": "python",
   "nbconvert_exporter": "python",
   "pygments_lexer": "ipython3",
   "version": "3.6.5"
  }
 },
 "nbformat": 4,
 "nbformat_minor": 2
}
