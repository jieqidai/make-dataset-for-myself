{
 "cells": [
  {
   "cell_type": "code",
   "execution_count": 14,
   "metadata": {},
   "outputs": [
    {
     "data": {
      "text/plain": [
       "True"
      ]
     },
     "execution_count": 14,
     "metadata": {},
     "output_type": "execute_result"
    }
   ],
   "source": [
    "import cv2\n",
    "#import numpy as np\n",
    "\n",
    "img = cv2.imread(\"D:/aaa/background/2007_000032.jpg\", cv2.IMREAD_UNCHANGED)#背景图像\n",
    "test = cv2.imread(\"D:/aaa/body/2_0.jpg\", cv2.IMREAD_UNCHANGED)#要粘贴的图像\n",
    "savepath = \"D:/aaa/result.jpg\"\n",
    "sp = test.shape\n",
    "h = sp[0]\n",
    "w = sp[1]\n",
    "#定义300*100矩阵 3对应BGR\n",
    "#face = np.ones((h, w, 3))\n",
    "\n",
    "#显示原始图像\n",
    "#cv2.imshow(\"Demo\", img)\n",
    "\n",
    "#显示ROI区域\n",
    "#face = test[0:h, 0:w]\n",
    "roi = img[200:(200+h),200:(200+w)]\n",
    "#img[10:(10+h),10:(10+w)] = test\n",
    "img_add = cv2.addWeighted(test,0.7,roi,0.3,0)\n",
    "img[200:(200+h),200:(200+w)] = img_add\n",
    "cv2.imwrite(savepath,img)\n",
    "#cv2.imshow(\"Pic\", img)\n",
    "\n",
    "#等待显示\n",
    "#cv2.waitKey(0)\n",
    "#cv2.destroyAllWindows()"
   ]
  },
  {
   "cell_type": "code",
   "execution_count": null,
   "metadata": {},
   "outputs": [],
   "source": []
  }
 ],
 "metadata": {
  "kernelspec": {
   "display_name": "Python 3",
   "language": "python",
   "name": "python3"
  },
  "language_info": {
   "codemirror_mode": {
    "name": "ipython",
    "version": 3
   },
   "file_extension": ".py",
   "mimetype": "text/x-python",
   "name": "python",
   "nbconvert_exporter": "python",
   "pygments_lexer": "ipython3",
   "version": "3.6.5"
  }
 },
 "nbformat": 4,
 "nbformat_minor": 2
}
